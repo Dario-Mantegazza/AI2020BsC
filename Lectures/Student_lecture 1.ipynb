{
 "cells": [
  {
   "cell_type": "markdown",
   "metadata": {
    "collapsed": true,
    "pycharm": {
     "name": "#%% md\n"
    }
   },
   "source": [
    "## First Lecture\\n\",\n",
    "    What we are going to do today:\\n\n",
    "    - read TSP data\\n\n",
    "    - store nodes in data structure\\n\n",
    "    - plot raw data\\n\n",
    "    - define distance function\\n\n",
    "    - create distance matrix\\n\n",
    "    - generate naive solution \\n\n",
    "    - check if the solution is valid\\n\n",
    "    - evaluate solution!"
   ]
  }
 ],
 "metadata": {
  "kernelspec": {
   "name": "pycharm-61970693",
   "language": "python",
   "display_name": "PyCharm (AI2020BsC)"
  },
  "language_info": {
   "codemirror_mode": {
    "name": "ipython",
    "version": 3
   },
   "file_extension": ".py",
   "mimetype": "text/x-python",
   "name": "python",
   "nbconvert_exporter": "python",
   "pygments_lexer": "ipython3",
   "version": "3.8.3"
  }
 },
 "nbformat": 4,
 "nbformat_minor": 1
}