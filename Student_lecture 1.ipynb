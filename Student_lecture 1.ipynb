{
 "cells": [
  {
   "attachments": {},
   "cell_type": "markdown",
   "metadata": {
    "collapsed": true
   },
   "source": [
    "## First Lecture\n",
    "What we are going to do today:\n",
    "- read TSP data\n",
    "- store nodes in data structure\n",
    "- plot raw data\n",
    "- define distance function\n",
    "- create distance matrix\n",
    "- generate naive solution \n",
    "- check if the solution is valid\n",
    "- evaluate solution!"
   ]
  },
  {
   "cell_type": "markdown",
   "source": [
    "### Read TSP data\n"
   ],
   "metadata": {
    "collapsed": false
   }
  },
  {
   "cell_type": "markdown",
   "metadata": {},
   "source": [
    "### Read TSP data\n"
   ]
  }
 ],
 "metadata": {
  "kernelspec": {
   "display_name": "Python 3",
   "language": "python",
   "name": "python3"
  },
  "language_info": {
   "codemirror_mode": {
    "name": "ipython",
    "version": 3
   },
   "file_extension": ".py",
   "mimetype": "text/x-python",
   "name": "python",
   "nbconvert_exporter": "python",
   "pygments_lexer": "ipython3",
   "version": "3.8.3"
  }
 },
 "nbformat": 4,
 "nbformat_minor": 1
}